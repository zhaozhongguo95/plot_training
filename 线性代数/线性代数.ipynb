{
 "cells": [
  {
   "cell_type": "markdown",
   "metadata": {},
   "source": [
    "# 线性代数基础"
   ]
  },
  {
   "cell_type": "markdown",
   "metadata": {},
   "source": [
    "## 向量"
   ]
  },
  {
   "cell_type": "markdown",
   "metadata": {},
   "source": [
    "### 向量内积"
   ]
  },
  {
   "cell_type": "markdown",
   "metadata": {},
   "source": [
    "向量的点积（又叫点乘）定义如下：\n",
    "$$ \\vec{\\mathbf{a}}\\cdot \\vec{\\mathbf{b}} = \\begin{bmatrix} a_1 \\\\ a_2 \\\\ \\ldots \\\\ a_n\\end{bmatrix} \\cdot \\begin{bmatrix} b_1 \\\\ b_2 \\\\ \\ldots \\\\ b_n \\end{bmatrix} = a_{1}b_{1} + a_{2}b_{2} + \\ldots + a_{n}b_{n}$$\n",
    "点积满足乘法交换律、分配律和结合律"
   ]
  },
  {
   "cell_type": "code",
   "execution_count": 1,
   "metadata": {},
   "outputs": [],
   "source": [
    "import numpy as np\n",
    "import scipy as sp"
   ]
  },
  {
   "cell_type": "code",
   "execution_count": 2,
   "metadata": {},
   "outputs": [],
   "source": [
    "from IPython.core.interactiveshell import InteractiveShell\n",
    "InteractiveShell.ast_node_interactivity = \"all\""
   ]
  },
  {
   "cell_type": "code",
   "execution_count": 3,
   "metadata": {},
   "outputs": [
    {
     "data": {
      "text/plain": [
       "37"
      ]
     },
     "execution_count": 3,
     "metadata": {},
     "output_type": "execute_result"
    }
   ],
   "source": [
    "a = np.array([3,5,2])\n",
    "b = np.array([1,4,7])\n",
    "np.dot(a,b)"
   ]
  },
  {
   "cell_type": "markdown",
   "metadata": {},
   "source": [
    "点积还有一个非常重要的性质，称为 柯西不等式 \n",
    "* 对两个非 0 向量 $\\vec{\\mathbf{x}}, \\vec{\\mathbf{y}} \\in \\mathbb{R}^{n}$,$|\\vec{\\mathbf{x}} \\cdot \\vec{\\mathbf{y}}| \\le \\left\\|\\vec{\\mathbf{x}}\\right\\|\\left\\|\\vec{\\mathbf{y}}\\right\\|$。\n",
    "* 当且仅当 $\\vec{\\mathbf{x}} = c\\vec{\\mathbf{y}}$ 时，等式成立。"
   ]
  },
  {
   "cell_type": "markdown",
   "metadata": {},
   "source": [
    "从几何的角度来说，向量的点积与向量间夹角$\\theta$的余弦有关：\n",
    "$$\\vec{\\mathbf{a}}\\cdot\\vec{\\mathbf{b}} = \\left\\|\\vec{\\mathbf{a}}\\right\\|\\left\\|\\vec{\\mathbf{b}}\\right\\|cos\\theta $$\n",
    "\n",
    "向量的点积其实反映了向量$\\vec{\\mathbf{a}}$在向量$\\vec{\\mathbf{b}}$上的 投影 ，即两个向量在同个方向上的相同程度。当两向量正交时，$cos\\theta$ 的值为0，点积的值为0，投影最小。当两向量平行时，$cos\\theta$ 的值为1，点积值最大，投影也最大"
   ]
  },
  {
   "cell_type": "markdown",
   "metadata": {},
   "source": [
    "### 向量外积"
   ]
  },
  {
   "cell_type": "markdown",
   "metadata": {},
   "source": [
    "外积的一个重要作用是可以得到一个和 $\\vec{\\mathbf{a}}$  、$\\vec{\\mathbf{b}}$  两个原向量正交的新向量 $\\vec{\\mathbf{c}}$，且可以通过右手法则来确定新向量的方向（一个简单的确定满足“右手定则”的结果向量的方向的方法是这样的：若坐标系是满足右手定则的，当右手的四指从 $\\vec{\\mathbf{a}}$ 以不超过180度的转角转向 $\\vec{\\mathbf{b}}$ 时，竖起的大拇指指向是 $\\vec{\\mathbf{c}}$ 的方向）"
   ]
  },
  {
   "cell_type": "markdown",
   "metadata": {},
   "source": [
    "向量的（又叫叉乘、向量积、叉积）只在 $\\mathbb{R}^{2}$和$\\mathbb{R}^{3}$中定义：\n",
    "\n",
    "$\\mathbb{R}^{2}$的向量外积:\n",
    "$$\\begin{bmatrix}a_1\\\\a_2\\end{bmatrix}\\times \\begin{bmatrix} b_1\\\\ b_2 \\end{bmatrix} = \\begin{bmatrix} a_1 \\cdot b_2 - a_2 \\cdot b_1 \\end{bmatrix}$$\n",
    "\n",
    "\n",
    "$\\mathbb{R}^{3}$的向量外积:\n",
    "\n",
    "$$\\begin{bmatrix} a_1 \\\\ a_2 \\\\ a_3\\end{bmatrix} \\times \\begin{bmatrix} b_ 1\\\\ b_2 \\\\ b_3 \\end{bmatrix} = \\begin{bmatrix} a_2 \\cdot b_3 - a_3 \\cdot b_2 \\\\ a_3 \\cdot b_1 - a_1 \\cdot b_3 \\\\ a_1 \\cdot b_2 - a_2 \\cdot b_1\\end{bmatrix}$$\n",
    "例如：\n",
    "$$\\begin{bmatrix} 3 \\\\ 5 \\\\ 2 \\end{bmatrix} \\times \\begin{bmatrix} 1 \\\\ 4 \\\\ 7 \\end{bmatrix} = \\begin{bmatrix} 5 \\cdot 7 - 2 \\cdot 4 \\\\ 2 \\cdot 1 - 3 \\cdot 7 \\\\ 3 \\cdot 4 - 5 \\cdot 1\\end{bmatrix} = \\begin{bmatrix} 27 \\\\ -19 \\\\ 7\\end{bmatrix}$$"
   ]
  },
  {
   "cell_type": "code",
   "execution_count": 4,
   "metadata": {},
   "outputs": [
    {
     "data": {
      "text/plain": [
       "array([ 27, -19,   7])"
      ]
     },
     "execution_count": 4,
     "metadata": {},
     "output_type": "execute_result"
    }
   ],
   "source": [
    "a = np.array([3,5,2])\n",
    "b = np.array([1,4,7])\n",
    "np.cross(a,b)"
   ]
  },
  {
   "cell_type": "markdown",
   "metadata": {},
   "source": [
    "从几何的角度来说，向量的外积与向量间夹角 θ 的正弦有关：\n",
    "\n",
    "$$\\left\\|\\vec{\\mathbf{a}}\\times\\vec{\\mathbf{b}}\\right\\| = \\left\\|\\vec{\\mathbf{a}}\\right\\|\\left\\|\\vec{\\mathbf{b}}\\right\\|sin\\theta$$\n",
    "\n",
    "这意味着向量的外积反映了向量 $\\vec{\\mathbf{a}}$与向量 $\\vec{\\mathbf{b}}$ 的正交程度。当两向量平行时，$sin\\theta$的值为0，外积的值为0，正交程度最小。当两向量正交时，$sin\\theta$的值为1，外积值最大，正交程度最大。"
   ]
  },
  {
   "cell_type": "markdown",
   "metadata": {},
   "source": [
    "## 矩阵"
   ]
  },
  {
   "cell_type": "markdown",
   "metadata": {},
   "source": [
    "### 建立矩阵"
   ]
  },
  {
   "cell_type": "code",
   "execution_count": 5,
   "metadata": {},
   "outputs": [
    {
     "data": {
      "text/plain": [
       "array([1, 2, 3])"
      ]
     },
     "execution_count": 5,
     "metadata": {},
     "output_type": "execute_result"
    },
    {
     "data": {
      "text/plain": [
       "array([[1, 2, 3],\n",
       "       [2, 3, 4]])"
      ]
     },
     "execution_count": 5,
     "metadata": {},
     "output_type": "execute_result"
    }
   ],
   "source": [
    "#一维数组\n",
    "a1 = np.array([1,2,3],dtype = int)\n",
    "#二维数组\n",
    "a2 = np.array([[1,2,3],[2,3,4]])\n",
    "a1\n",
    "a2"
   ]
  },
  {
   "cell_type": "markdown",
   "metadata": {},
   "source": [
    "#### 通过np.matrix()建立矩阵"
   ]
  },
  {
   "cell_type": "code",
   "execution_count": 6,
   "metadata": {},
   "outputs": [
    {
     "data": {
      "text/plain": [
       "matrix([[5, 2, 7],\n",
       "        [1, 3, 4]])"
      ]
     },
     "execution_count": 6,
     "metadata": {},
     "output_type": "execute_result"
    },
    {
     "data": {
      "text/plain": [
       "matrix([[ 5,  2,  7,  6],\n",
       "        [ 1,  3,  4,  2],\n",
       "        [ 8,  2, -2,  3]])"
      ]
     },
     "execution_count": 6,
     "metadata": {},
     "output_type": "execute_result"
    }
   ],
   "source": [
    "a = np.matrix('5 2 7;1 3 4');a\n",
    "b = np.matrix('5 2 7 6;1 3 4 2;8 2 -2 3');b\n"
   ]
  },
  {
   "cell_type": "code",
   "execution_count": 7,
   "metadata": {},
   "outputs": [
    {
     "data": {
      "text/plain": [
       "array([[5, 2, 7],\n",
       "       [1, 3, 4]])"
      ]
     },
     "execution_count": 7,
     "metadata": {},
     "output_type": "execute_result"
    },
    {
     "data": {
      "text/plain": [
       "numpy.ndarray"
      ]
     },
     "execution_count": 7,
     "metadata": {},
     "output_type": "execute_result"
    },
    {
     "data": {
      "text/plain": [
       "numpy.matrix"
      ]
     },
     "execution_count": 7,
     "metadata": {},
     "output_type": "execute_result"
    },
    {
     "data": {
      "text/plain": [
       "numpy.matrix"
      ]
     },
     "execution_count": 7,
     "metadata": {},
     "output_type": "execute_result"
    },
    {
     "data": {
      "text/plain": [
       "matrix([[ 0.17948718, -0.23076923],\n",
       "        [-0.12820513,  0.30769231],\n",
       "        [ 0.05128205,  0.07692308]])"
      ]
     },
     "execution_count": 7,
     "metadata": {},
     "output_type": "execute_result"
    },
    {
     "data": {
      "text/plain": [
       "matrix([[5, 1],\n",
       "        [2, 3],\n",
       "        [7, 4]])"
      ]
     },
     "execution_count": 7,
     "metadata": {},
     "output_type": "execute_result"
    }
   ],
   "source": [
    "c = a.getA();c;type(c);type(a)\n",
    "c = np.asmatrix(c);type(c)\n",
    "c.I #求逆矩阵\n",
    "c.T #矩阵的转置"
   ]
  },
  {
   "cell_type": "markdown",
   "metadata": {},
   "source": [
    "numpy中还提供了几个like函数，即按照某一个已知的数组的规模（几行几列）建立同样规模的特殊数组。这样的函数有zeros_like()、empty_like()、ones_like()，它们的参数均为如此形式：zeros_like(a,dtype=)，其中，a是一个已知的数组。"
   ]
  },
  {
   "cell_type": "code",
   "execution_count": 8,
   "metadata": {},
   "outputs": [
    {
     "data": {
      "text/plain": [
       "array([[0., 0., 0.],\n",
       "       [0., 0., 0.]])"
      ]
     },
     "execution_count": 8,
     "metadata": {},
     "output_type": "execute_result"
    },
    {
     "data": {
      "text/plain": [
       "array([[1., 1., 1.],\n",
       "       [1., 1., 1.]])"
      ]
     },
     "execution_count": 8,
     "metadata": {},
     "output_type": "execute_result"
    },
    {
     "data": {
      "text/plain": [
       "array([[0.00000000e+000, 0.00000000e+000, 0.00000000e+000],\n",
       "       [0.00000000e+000, 0.00000000e+000, 4.99994434e-321],\n",
       "       [1.42410838e-306, 7.56597769e-307, 2.44032786e-312]])"
      ]
     },
     "execution_count": 8,
     "metadata": {},
     "output_type": "execute_result"
    }
   ],
   "source": [
    "# 全0\n",
    "b1 = np.zeros((2,3),dtype=float)\n",
    "# 全1\n",
    "b2 = np.ones((2,3))\n",
    "# 空矩阵,使用内存中的随机值填充\n",
    "b3 = np.empty((3,3))\n",
    "b1\n",
    "b2\n",
    "b3"
   ]
  },
  {
   "cell_type": "code",
   "execution_count": 9,
   "metadata": {},
   "outputs": [
    {
     "data": {
      "text/plain": [
       "array([[1., 0., 0.],\n",
       "       [0., 1., 0.],\n",
       "       [0., 0., 1.]])"
      ]
     },
     "execution_count": 9,
     "metadata": {},
     "output_type": "execute_result"
    },
    {
     "data": {
      "text/plain": [
       "array([[0., 1., 0.],\n",
       "       [0., 0., 1.],\n",
       "       [0., 0., 0.]])"
      ]
     },
     "execution_count": 9,
     "metadata": {},
     "output_type": "execute_result"
    }
   ],
   "source": [
    "#建立3*3的单位矩阵，方阵\n",
    "c1 = np.identity(3)\n",
    "#建立对角线为1，其余值为0，用K指定对角线位置，M默认None\n",
    "c2 = np.eye(N=3,M=None,k=1)\n",
    "c1\n",
    "c2"
   ]
  },
  {
   "cell_type": "code",
   "execution_count": 10,
   "metadata": {},
   "outputs": [
    {
     "data": {
      "text/plain": [
       "array([2. , 2.1, 2.2, 2.3, 2.4, 2.5, 2.6, 2.7, 2.8, 2.9])"
      ]
     },
     "execution_count": 10,
     "metadata": {},
     "output_type": "execute_result"
    },
    {
     "data": {
      "text/plain": [
       "array([1.        , 1.33333333, 1.66666667, 2.        , 2.33333333,\n",
       "       2.66666667, 3.        , 3.33333333, 3.66666667, 4.        ])"
      ]
     },
     "execution_count": 10,
     "metadata": {},
     "output_type": "execute_result"
    },
    {
     "data": {
      "text/plain": [
       "array([[0.52371779, 0.43094525],\n",
       "       [0.95547844, 0.88187918],\n",
       "       [0.01078213, 0.7271624 ]])"
      ]
     },
     "execution_count": 10,
     "metadata": {},
     "output_type": "execute_result"
    }
   ],
   "source": [
    "d1 = np.arange(2,3,0.1);d1\n",
    "d2 = np.linspace(1,4,10);d2\n",
    "d3 = np.random.rand(3,2);d3"
   ]
  },
  {
   "cell_type": "code",
   "execution_count": 11,
   "metadata": {},
   "outputs": [
    {
     "data": {
      "text/plain": [
       "array([[1, 2, 3, 4],\n",
       "       [2, 3, 4, 5],\n",
       "       [3, 4, 5, 6]])"
      ]
     },
     "execution_count": 11,
     "metadata": {},
     "output_type": "execute_result"
    },
    {
     "data": {
      "text/plain": [
       "array([[1, 0, 0, 0],\n",
       "       [2, 3, 0, 0],\n",
       "       [3, 4, 5, 0]])"
      ]
     },
     "execution_count": 11,
     "metadata": {},
     "output_type": "execute_result"
    },
    {
     "data": {
      "text/plain": [
       "array([[1, 2, 3, 4],\n",
       "       [0, 3, 4, 5],\n",
       "       [0, 0, 5, 6]])"
      ]
     },
     "execution_count": 11,
     "metadata": {},
     "output_type": "execute_result"
    }
   ],
   "source": [
    "# 上三角与下三角\n",
    "e = np.array([[1,2,3,4],[2,3,4,5],[3,4,5,6]])\n",
    "e1 = np.copy(e);e1\n",
    "e2 = np.tril(e1);e2\n",
    "e3 = np.triu(e1);e3"
   ]
  },
  {
   "cell_type": "markdown",
   "metadata": {},
   "source": [
    "### 矩阵的转置"
   ]
  },
  {
   "cell_type": "markdown",
   "metadata": {},
   "source": [
    "向量的转置有一个性质：一个向量$\\vec{\\mathbf{V}}$点乘另一个向量$\\vec{\\mathbf{W}}$ ，其结果和向量 $\\vec{\\mathbf{V}}$ 转置后和向量$\\vec{\\mathbf{W}}$ 做矩阵乘法相同。即 $\\vec{\\mathbf{V}} \\cdot \\vec{\\mathbf{W}} = \\vec{\\mathbf{V}}^{T} \\vec{\\mathbf{W}}$"
   ]
  },
  {
   "cell_type": "code",
   "execution_count": 12,
   "metadata": {},
   "outputs": [
    {
     "data": {
      "text/plain": [
       "array([[1, 2, 3],\n",
       "       [3, 4, 5],\n",
       "       [6, 7, 8]])"
      ]
     },
     "execution_count": 12,
     "metadata": {},
     "output_type": "execute_result"
    },
    {
     "data": {
      "text/plain": [
       "array([[1, 3, 6],\n",
       "       [2, 4, 7],\n",
       "       [3, 5, 8]])"
      ]
     },
     "execution_count": 12,
     "metadata": {},
     "output_type": "execute_result"
    },
    {
     "data": {
      "text/plain": [
       "array([[1, 2, 3],\n",
       "       [3, 4, 5],\n",
       "       [6, 7, 8]])"
      ]
     },
     "execution_count": 12,
     "metadata": {},
     "output_type": "execute_result"
    }
   ],
   "source": [
    "A = np.array([[1,2,3],[3,4,5],[6,7,8]]);A\n",
    "A.T;A.T.T"
   ]
  },
  {
   "cell_type": "code",
   "execution_count": 13,
   "metadata": {},
   "outputs": [
    {
     "data": {
      "text/plain": [
       "array([[ 6,  4,  6],\n",
       "       [ 6, 11, 11],\n",
       "       [ 5, 14, 13]])"
      ]
     },
     "execution_count": 13,
     "metadata": {},
     "output_type": "execute_result"
    },
    {
     "data": {
      "text/plain": [
       "array([[ 6,  4,  6],\n",
       "       [ 6, 11, 11],\n",
       "       [ 5, 14, 13]])"
      ]
     },
     "execution_count": 13,
     "metadata": {},
     "output_type": "execute_result"
    }
   ],
   "source": [
    "#验证转置性质(A±B)'=A'±B'\n",
    "B = np.array([[5,4,2],[1,7,9],[0,4,5]])\n",
    "(A+B).T;A.T+B.T"
   ]
  },
  {
   "cell_type": "code",
   "execution_count": 14,
   "metadata": {},
   "outputs": [
    {
     "data": {
      "text/plain": [
       "array([[10, 30, 60],\n",
       "       [20, 40, 70],\n",
       "       [30, 50, 80]])"
      ]
     },
     "execution_count": 14,
     "metadata": {},
     "output_type": "execute_result"
    },
    {
     "data": {
      "text/plain": [
       "array([[10, 30, 60],\n",
       "       [20, 40, 70],\n",
       "       [30, 50, 80]])"
      ]
     },
     "execution_count": 14,
     "metadata": {},
     "output_type": "execute_result"
    }
   ],
   "source": [
    "#验证矩阵转置的性质：(KA)'=KA'\n",
    "10*(A.T);(10*A).T"
   ]
  },
  {
   "cell_type": "code",
   "execution_count": 15,
   "metadata": {},
   "outputs": [
    {
     "data": {
      "text/plain": [
       "array([[  7,  19,  37],\n",
       "       [ 30,  60, 105],\n",
       "       [ 35,  67, 115]])"
      ]
     },
     "execution_count": 15,
     "metadata": {},
     "output_type": "execute_result"
    },
    {
     "data": {
      "text/plain": [
       "array([[  7,  19,  37],\n",
       "       [ 30,  60, 105],\n",
       "       [ 35,  67, 115]])"
      ]
     },
     "execution_count": 15,
     "metadata": {},
     "output_type": "execute_result"
    }
   ],
   "source": [
    "# 验证矩阵转置的性质：(A×B)'= B'×A'\n",
    "np.dot(A,B).T\n",
    "np.dot(B.T,A.T)"
   ]
  },
  {
   "cell_type": "markdown",
   "metadata": {},
   "source": [
    "### 方阵的迹\n",
    "方阵的迹就是主对角元素之和，使用trace()函数获得方阵的迹"
   ]
  },
  {
   "cell_type": "code",
   "execution_count": 16,
   "metadata": {},
   "outputs": [
    {
     "data": {
      "text/plain": [
       "array([[1, 2, 3],\n",
       "       [3, 4, 5],\n",
       "       [6, 7, 8]])"
      ]
     },
     "execution_count": 16,
     "metadata": {},
     "output_type": "execute_result"
    },
    {
     "data": {
      "text/plain": [
       "array([[5, 4, 2],\n",
       "       [1, 7, 9],\n",
       "       [0, 4, 5]])"
      ]
     },
     "execution_count": 16,
     "metadata": {},
     "output_type": "execute_result"
    },
    {
     "data": {
      "text/plain": [
       "13"
      ]
     },
     "execution_count": 16,
     "metadata": {},
     "output_type": "execute_result"
    },
    {
     "data": {
      "text/plain": [
       "13"
      ]
     },
     "execution_count": 16,
     "metadata": {},
     "output_type": "execute_result"
    },
    {
     "data": {
      "text/plain": [
       "30"
      ]
     },
     "execution_count": 16,
     "metadata": {},
     "output_type": "execute_result"
    },
    {
     "data": {
      "text/plain": [
       "30"
      ]
     },
     "execution_count": 16,
     "metadata": {},
     "output_type": "execute_result"
    }
   ],
   "source": [
    "A;B\n",
    "#A的迹等于A.T的迹\n",
    "np.trace(A)    \n",
    "np.trace(A.T)\n",
    " #和的迹等于迹的和\n",
    "np.trace(A+B) \n",
    "np.trace(A)+np.trace(B)"
   ]
  },
  {
   "cell_type": "markdown",
   "metadata": {},
   "source": [
    "### 计算行列式"
   ]
  },
  {
   "cell_type": "code",
   "execution_count": 17,
   "metadata": {},
   "outputs": [
    {
     "data": {
      "text/plain": [
       "array([[1, 2],\n",
       "       [1, 3]])"
      ]
     },
     "execution_count": 17,
     "metadata": {},
     "output_type": "execute_result"
    },
    {
     "data": {
      "text/plain": [
       "1.0"
      ]
     },
     "execution_count": 17,
     "metadata": {},
     "output_type": "execute_result"
    }
   ],
   "source": [
    "C = np.array([[1,2],[1,3]]);C\n",
    "np.linalg.det(C)"
   ]
  },
  {
   "cell_type": "markdown",
   "metadata": {},
   "source": [
    "### 逆矩阵、伴随矩阵"
   ]
  },
  {
   "cell_type": "markdown",
   "metadata": {},
   "source": [
    "若A存在逆矩阵(满足det(A) != 0，或者A满秩)，使用linalg.inv求得方阵A的逆矩阵"
   ]
  },
  {
   "cell_type": "code",
   "execution_count": 18,
   "metadata": {},
   "outputs": [
    {
     "data": {
      "text/plain": [
       "array([[ 1, -2,  1],\n",
       "       [ 0,  2, -1],\n",
       "       [ 1,  1, -2]])"
      ]
     },
     "execution_count": 18,
     "metadata": {},
     "output_type": "execute_result"
    }
   ],
   "source": [
    "A = np.array([[1,-2,1],[0,2,-1],[1,1,-2]]);A"
   ]
  },
  {
   "cell_type": "code",
   "execution_count": 19,
   "metadata": {},
   "outputs": [
    {
     "data": {
      "text/plain": [
       "-3.0000000000000004"
      ]
     },
     "execution_count": 19,
     "metadata": {},
     "output_type": "execute_result"
    },
    {
     "data": {
      "text/plain": [
       "array([[ 1.        ,  1.        ,  0.        ],\n",
       "       [ 0.33333333,  1.        , -0.33333333],\n",
       "       [ 0.66666667,  1.        , -0.66666667]])"
      ]
     },
     "execution_count": 19,
     "metadata": {},
     "output_type": "execute_result"
    },
    {
     "data": {
      "text/plain": [
       "array([[1., 0., 0.],\n",
       "       [0., 1., 0.],\n",
       "       [0., 0., 1.]])"
      ]
     },
     "execution_count": 19,
     "metadata": {},
     "output_type": "execute_result"
    },
    {
     "data": {
      "text/plain": [
       "array([[-3., -3., -0.],\n",
       "       [-1., -3.,  1.],\n",
       "       [-2., -3.,  2.]])"
      ]
     },
     "execution_count": 19,
     "metadata": {},
     "output_type": "execute_result"
    }
   ],
   "source": [
    "# 求A的行列式，不为零则存在逆矩阵\n",
    "A_det = np.linalg.det(A);A_det\n",
    "# 求A的逆矩阵\n",
    "A_inverse = np.linalg.inv(A);A_inverse\n",
    "#A与其逆矩阵的乘积为单位阵\n",
    "np.dot(A,A_inverse)\n",
    "# 求A的伴随矩阵\n",
    "A_companion = A_inverse*A_det;A_companion"
   ]
  },
  {
   "cell_type": "code",
   "execution_count": 20,
   "metadata": {},
   "outputs": [
    {
     "data": {
      "text/plain": [
       "2"
      ]
     },
     "execution_count": 20,
     "metadata": {},
     "output_type": "execute_result"
    },
    {
     "data": {
      "text/plain": [
       "array([[ 1, -2,  1],\n",
       "       [ 0,  2, -1],\n",
       "       [ 1,  1, -2]])"
      ]
     },
     "execution_count": 20,
     "metadata": {},
     "output_type": "execute_result"
    },
    {
     "data": {
      "text/plain": [
       "array([[5, 4, 2],\n",
       "       [1, 7, 9],\n",
       "       [0, 4, 5]])"
      ]
     },
     "execution_count": 20,
     "metadata": {},
     "output_type": "execute_result"
    },
    {
     "data": {
      "text/plain": [
       "False"
      ]
     },
     "execution_count": 20,
     "metadata": {},
     "output_type": "execute_result"
    }
   ],
   "source": [
    "#使用np.allclose()检测两个矩阵是否相同\n",
    "x=2;x\n",
    "A;B\n",
    "np.allclose(np.dot(A,x),B)"
   ]
  },
  {
   "cell_type": "markdown",
   "metadata": {},
   "source": [
    "### 计算矩阵距离"
   ]
  },
  {
   "cell_type": "markdown",
   "metadata": {},
   "source": [
    "矩阵的距离，这里指欧几里得距离，如何计算两个形状相同矩阵之间的距离？"
   ]
  },
  {
   "cell_type": "code",
   "execution_count": 21,
   "metadata": {},
   "outputs": [
    {
     "data": {
      "text/plain": [
       "array([[0, 1],\n",
       "       [1, 0]])"
      ]
     },
     "execution_count": 21,
     "metadata": {},
     "output_type": "execute_result"
    },
    {
     "data": {
      "text/plain": [
       "array([[1, 1],\n",
       "       [1, 1]])"
      ]
     },
     "execution_count": 21,
     "metadata": {},
     "output_type": "execute_result"
    },
    {
     "data": {
      "text/plain": [
       "array([[-1,  0],\n",
       "       [ 0, -1]])"
      ]
     },
     "execution_count": 21,
     "metadata": {},
     "output_type": "execute_result"
    },
    {
     "data": {
      "text/plain": [
       "array([[1, 0],\n",
       "       [0, 1]])"
      ]
     },
     "execution_count": 21,
     "metadata": {},
     "output_type": "execute_result"
    },
    {
     "data": {
      "text/plain": [
       "2"
      ]
     },
     "execution_count": 21,
     "metadata": {},
     "output_type": "execute_result"
    },
    {
     "data": {
      "text/plain": [
       "1.4142135623730951"
      ]
     },
     "execution_count": 21,
     "metadata": {},
     "output_type": "execute_result"
    }
   ],
   "source": [
    "A = np.array([[0,1],[1,0]]); B = np.array([[1,1,],[1,1]]);A;B\n",
    "C = A-B;C\n",
    "#距离矩阵的平方\n",
    "D = np.dot(C,C);D\n",
    "#计算矩阵D的迹\n",
    "E = np.trace(D);E\n",
    "#对E开平方得到距离\n",
    "E**0.5"
   ]
  },
  {
   "cell_type": "markdown",
   "metadata": {},
   "source": [
    "### 矩阵的秩"
   ]
  },
  {
   "cell_type": "markdown",
   "metadata": {},
   "source": [
    "numpy包中的linalg.matrix_rank方法计算矩阵的秩："
   ]
  },
  {
   "cell_type": "code",
   "execution_count": 22,
   "metadata": {},
   "outputs": [
    {
     "data": {
      "text/plain": [
       "array([[1., 0., 0.],\n",
       "       [0., 1., 0.],\n",
       "       [0., 0., 1.]])"
      ]
     },
     "execution_count": 22,
     "metadata": {},
     "output_type": "execute_result"
    },
    {
     "data": {
      "text/plain": [
       "3"
      ]
     },
     "execution_count": 22,
     "metadata": {},
     "output_type": "execute_result"
    },
    {
     "data": {
      "text/plain": [
       "array([[1., 0., 0.],\n",
       "       [0., 0., 0.],\n",
       "       [0., 0., 1.]])"
      ]
     },
     "execution_count": 22,
     "metadata": {},
     "output_type": "execute_result"
    },
    {
     "data": {
      "text/plain": [
       "2"
      ]
     },
     "execution_count": 22,
     "metadata": {},
     "output_type": "execute_result"
    }
   ],
   "source": [
    "I = np.eye(3);I#创建单位矩阵\n",
    "#秩\n",
    "np.linalg.matrix_rank(I)\n",
    "#将元素换成0\n",
    "I[1,1] = 0;I\n",
    "np.linalg.matrix_rank(I)#此时秩变为2\n"
   ]
  },
  {
   "cell_type": "markdown",
   "metadata": {},
   "source": [
    "### 求方阵的特征值、特征向量"
   ]
  },
  {
   "cell_type": "code",
   "execution_count": 23,
   "metadata": {},
   "outputs": [
    {
     "data": {
      "text/plain": [
       "array([[1, 0, 0],\n",
       "       [0, 2, 0],\n",
       "       [0, 0, 3]])"
      ]
     },
     "execution_count": 23,
     "metadata": {},
     "output_type": "execute_result"
    },
    {
     "data": {
      "text/plain": [
       "array([1., 2., 3.])"
      ]
     },
     "execution_count": 23,
     "metadata": {},
     "output_type": "execute_result"
    },
    {
     "data": {
      "text/plain": [
       "array([[1., 0., 0.],\n",
       "       [0., 1., 0.],\n",
       "       [0., 0., 1.]])"
      ]
     },
     "execution_count": 23,
     "metadata": {},
     "output_type": "execute_result"
    }
   ],
   "source": [
    "x = np.diag((1,2,3));x #对角矩阵\n",
    "a,b = np.linalg.eig(x)\n",
    "#特征值\n",
    "a\n",
    "#特征向量\n",
    "b"
   ]
  },
  {
   "cell_type": "markdown",
   "metadata": {},
   "source": [
    "根据公式 Ax = λx 检验特征值与特征向量是否正确："
   ]
  },
  {
   "cell_type": "code",
   "execution_count": 24,
   "metadata": {},
   "outputs": [
    {
     "name": "stdout",
     "output_type": "stream",
     "text": [
      "right\n",
      "right\n",
      "right\n",
      "right\n",
      "right\n",
      "right\n"
     ]
    }
   ],
   "source": [
    "# method 1\n",
    "for i in range(3):\n",
    "    if np.allclose(np.dot(a[i], b[:, i]), x[:, i]):\n",
    "        print(\"right\")  \n",
    "    else:\n",
    "        print(\"Error\")\n",
    "        \n",
    "# method 2\n",
    "for i in range(3):\n",
    "    if(np.dot(a[i],b[:,i])==x[:,i]).all():\n",
    "        print(\"right\")\n",
    "    else:\n",
    "        print(\"Error\")"
   ]
  },
  {
   "cell_type": "markdown",
   "metadata": {},
   "source": [
    "注意，如果写成 if np.dot(a[i], b[:, i]) == x[:,i]: 是错误的：(矩阵包含有多个值，应该使用a.any()或者a.all()判断)\n",
    "\n",
    " ValueError: The truth value of an array with more than one element is ambiguous. Use a.any() or a.all()"
   ]
  },
  {
   "cell_type": "markdown",
   "metadata": {},
   "source": [
    "### 判断正定矩阵"
   ]
  },
  {
   "cell_type": "markdown",
   "metadata": {},
   "source": [
    "设M是n阶方阵，如果对任何非零向量z，都有z'Mz> 0，其中z' 表示z的转置，就称M正定矩阵。\n",
    "\n",
    "判定定理1：对称阵A为正定的充分必要条件是：A的特征值全为正。\n",
    "\n",
    "判定定理2：对称阵A为正定的充分必要条件是：A的各阶顺序主子式都为正。\n",
    "\n",
    "判定定理3：任意阵A为正定的充分必要条件是：A合同于单位阵。\n",
    "\n",
    "下面用定理1判断对称阵是否为正定阵"
   ]
  },
  {
   "cell_type": "code",
   "execution_count": 25,
   "metadata": {},
   "outputs": [
    {
     "data": {
      "text/plain": [
       "array([[ 0,  1,  2,  3],\n",
       "       [ 4,  5,  6,  7],\n",
       "       [ 8,  9, 10, 11],\n",
       "       [12, 13, 14, 15]])"
      ]
     },
     "execution_count": 25,
     "metadata": {},
     "output_type": "execute_result"
    },
    {
     "data": {
      "text/plain": [
       "array([[ 0,  5, 10, 15],\n",
       "       [ 5, 10, 15, 20],\n",
       "       [10, 15, 20, 25],\n",
       "       [15, 20, 25, 30]])"
      ]
     },
     "execution_count": 25,
     "metadata": {},
     "output_type": "execute_result"
    },
    {
     "data": {
      "text/plain": [
       "array([ 6.74165739e+01+0.00000000e+00j, -7.41657387e+00+0.00000000e+00j,\n",
       "       -8.88285420e-17+1.82759332e-15j, -8.88285420e-17-1.82759332e-15j])"
      ]
     },
     "execution_count": 25,
     "metadata": {},
     "output_type": "execute_result"
    },
    {
     "name": "stdout",
     "output_type": "stream",
     "text": [
      "No\n"
     ]
    }
   ],
   "source": [
    "A = np.arange(16).reshape(4,4);A\n",
    "#将方阵转换成对称阵\n",
    "A = A +A.T;A\n",
    "#求B的特征值，注意：eig()是求特征值特征向量\n",
    "B = np.linalg.eigvals(A);B\n",
    "#判断是不是所有的特征值都大于0，用到了all函数，显然对称阵A不是正定的\n",
    "if np.all(B>0):\n",
    "    print('Yes')\n",
    "else:\n",
    "    print(\"No\")"
   ]
  },
  {
   "cell_type": "markdown",
   "metadata": {},
   "source": [
    "创建一个对角元素都为正的对角阵，它一定是正定的"
   ]
  },
  {
   "cell_type": "code",
   "execution_count": 26,
   "metadata": {},
   "outputs": [
    {
     "data": {
      "text/plain": [
       "array([1., 2., 3.])"
      ]
     },
     "execution_count": 26,
     "metadata": {},
     "output_type": "execute_result"
    },
    {
     "name": "stdout",
     "output_type": "stream",
     "text": [
      "yes\n"
     ]
    }
   ],
   "source": [
    "A = np.diag((1,2,3))#对角阵，其特征值都为正\n",
    "B = np.linalg.eigvals(A) ;B#特征值\n",
    "#判断特征值是否都大于0\n",
    "if np.all(B>0):\n",
    "    print(\"yes\")\n",
    "else:\n",
    "    print(\"No\")"
   ]
  },
  {
   "cell_type": "markdown",
   "metadata": {},
   "source": [
    "更简便的方法是对对称阵进行cholesky分解，如果像这样没有提示出错，就说明它是正定的。\n",
    "如果提示出错，就说明它不是正定矩阵，你可以使用try函数捕获错误值："
   ]
  },
  {
   "cell_type": "code",
   "execution_count": 27,
   "metadata": {},
   "outputs": [
    {
     "data": {
      "text/plain": [
       "array([[ 0,  1,  2,  3],\n",
       "       [ 4,  5,  6,  7],\n",
       "       [ 8,  9, 10, 11],\n",
       "       [12, 13, 14, 15]])"
      ]
     },
     "execution_count": 27,
     "metadata": {},
     "output_type": "execute_result"
    },
    {
     "data": {
      "text/plain": [
       "array([[ 0,  5, 10, 15],\n",
       "       [ 5, 10, 15, 20],\n",
       "       [10, 15, 20, 25],\n",
       "       [15, 20, 25, 30]])"
      ]
     },
     "execution_count": 27,
     "metadata": {},
     "output_type": "execute_result"
    },
    {
     "name": "stdout",
     "output_type": "stream",
     "text": [
      "不是正定矩阵，不能进行cholesky分解.\n"
     ]
    }
   ],
   "source": [
    "A = np.arange(16).reshape(4,4);A\n",
    "A = A+A.T;A\n",
    "try:\n",
    "    B = np.linalg.cholesky(A)\n",
    "except:\n",
    "    print('不是正定矩阵，不能进行cholesky分解.')"
   ]
  },
  {
   "cell_type": "markdown",
   "metadata": {},
   "source": [
    "### 矩阵向量积"
   ]
  },
  {
   "cell_type": "markdown",
   "metadata": {},
   "source": [
    "当矩阵$\\mathbf{A}$ 的列数与向量 $\\vec{\\mathbf{x}}$ 的分量数相同时，矩阵和向量的积有定义：\n",
    "\n",
    "$$\\underset{m\\times n}{A}\\vec{\\mathbf{x}}=\\begin{bmatrix}a_{11} & a_{12} & \\ldots & a_{1n} \\\\ a_{21} & a_{22} & \\ldots & a_{2n} \\\\ \\ldots \\\\ a_{m1} & a_{m2} & \\ldots & a_{mn}\\end{bmatrix} \\begin{bmatrix}x_1 \\\\ x_2 \\\\ \\ldots \\\\ x_n \\end{bmatrix} = \\begin{bmatrix}a_{11}x_1 + a_{12}x_2 + \\ldots + a_{1n}x_n \\\\ a_{21}x_1 + a_{22}x_2 + \\ldots + a_{2n}x_n \\\\ \\ldots \\\\ a_{m1}x_1 + a_{m2}x_2 + \\ldots + a_{mn}x_n \\\\ \\end{bmatrix}$$\n",
    "\n",
    "例如矩阵$\\mathbf{A} = \\begin{bmatrix}4 & 3 & 1 \\\\ 1 & 2 & 5\\end{bmatrix}$乘以向量 $\\vec{\\mathbf{x}} = \\begin{bmatrix}5 \\\\ 2 \\\\ 7\\end{bmatrix}$的结果为:\n",
    "$$\\begin{bmatrix}4\\cdot 5 + 3\\cdot 2 + 1\\cdot 7 \\\\ 1 \\cdot 5 + 2 \\cdot 2 + 5 \\cdot 7\\end{bmatrix} = \\begin{bmatrix}33 \\\\ 44\\end{bmatrix} $$"
   ]
  },
  {
   "cell_type": "code",
   "execution_count": 28,
   "metadata": {},
   "outputs": [
    {
     "data": {
      "text/plain": [
       "matrix([[4, 3, 1],\n",
       "        [1, 2, 5]])"
      ]
     },
     "execution_count": 28,
     "metadata": {},
     "output_type": "execute_result"
    },
    {
     "data": {
      "text/plain": [
       "matrix([[5],\n",
       "        [2],\n",
       "        [7]])"
      ]
     },
     "execution_count": 28,
     "metadata": {},
     "output_type": "execute_result"
    },
    {
     "data": {
      "text/plain": [
       "matrix([[33],\n",
       "        [44]])"
      ]
     },
     "execution_count": 28,
     "metadata": {},
     "output_type": "execute_result"
    }
   ],
   "source": [
    "a = np.matrix('4 3 1;1 2 5');a\n",
    "b = np.matrix('5;2;7');b\n",
    "a*b"
   ]
  },
  {
   "cell_type": "markdown",
   "metadata": {},
   "source": [
    "矩阵的向量积可以当成是矩阵的所有列向量的线性组合：\n",
    "$$\\underset { m\\times n }{ \\mathbf{A} } \\vec { \\mathbf{x} } =\\begin{bmatrix} \\underbrace { \\begin{bmatrix} a_{ 11 } \\\\ a_{ 21 } \\\\ \\ldots \\\\ a_{ m1 } \\end{bmatrix} }_{ \\vec { \\mathbf{ V }_{ 1 } }  }  & \\underbrace { \\begin{bmatrix} a_{ 12 } \\\\ a_{ 22 } \\\\\\ldots  \\\\ a_{ m2 } \\end{bmatrix} }_{ \\vec { \\mathbf{ V_{ 2 } } }  } & \\ldots & \\underbrace { \\begin{bmatrix} a_{ 1n } \\\\ a_{ 2n } \\\\ \\ldots \\\\ a_{ mn } \\end{bmatrix} }_{ \\vec { \\mathbf{ V_{ n } } }  }  \\end{bmatrix}\\begin{bmatrix} x_{ 1 } \\\\ x_{ 2 } \\\\ \\ldots \\\\ x_{ n } \\end{bmatrix}=x_1\\vec{\\mathbf{V}_1}+x_2\\vec{\\mathbf{V}_2}+\\ldots+x_n\\vec{\\mathbf{V}_n}\n",
    "$$\n",
    "而向量 $\\vec{\\mathbf{x}}$  的每一个分量可以看成是 $\\mathbf{A}$的每个列向量的加权。"
   ]
  },
  {
   "cell_type": "markdown",
   "metadata": {},
   "source": [
    "* 一个矩阵其实就是一个线性变换。一个矩阵乘以一个向量后得到的向量，其实就相当于将这个向量进行了线性变换"
   ]
  },
  {
   "cell_type": "markdown",
   "metadata": {},
   "source": [
    "### 求解方程组"
   ]
  },
  {
   "cell_type": "markdown",
   "metadata": {},
   "source": [
    "$$\\left\\{ \\begin{eqnarray} 3x+2y & = & 7 \\\\ -x+y & = & 1 \\end{eqnarray} \\right.$$\n"
   ]
  },
  {
   "cell_type": "markdown",
   "metadata": {},
   "source": [
    "可以使用矩阵表示为：$$ \\begin{bmatrix}3 & 2 \\\\-1 & 1\\end{bmatrix}\\begin{bmatrix}x \\\\y\\end{bmatrix}=\\begin{bmatrix}7\\\\1\\end{bmatrix} $$"
   ]
  },
  {
   "cell_type": "code",
   "execution_count": 29,
   "metadata": {},
   "outputs": [
    {
     "data": {
      "text/plain": [
       "matrix([[1.],\n",
       "        [2.]])"
      ]
     },
     "execution_count": 29,
     "metadata": {},
     "output_type": "execute_result"
    }
   ],
   "source": [
    "a = np.matrix('3 2;-1 1')\n",
    "b = np.matrix('7;1')\n",
    "np.linalg.solve(a,b)"
   ]
  },
  {
   "cell_type": "markdown",
   "metadata": {},
   "source": [
    "### 线性无关"
   ]
  },
  {
   "cell_type": "markdown",
   "metadata": {},
   "source": [
    "### 张成空间"
   ]
  },
  {
   "cell_type": "markdown",
   "metadata": {},
   "source": [
    "一组向量的张成空间说白了就是指这些向量随便线性组合后能够表示多少个向量。记为 $span(\\vec{\\mathbf{a}}, \\vec{\\mathbf{b}})$"
   ]
  },
  {
   "cell_type": "markdown",
   "metadata": {},
   "source": [
    "例如，对于 $\\mathbb{R}^{2}$空间中两个不平行的非0向量 $\\vec{\\mathbf{a}} = \\begin{bmatrix} 2 \\\\ 1\\end{bmatrix}$ 和向量 $\\vec{\\mathbf{b}} = \\begin{bmatrix} 0 \\\\ 3\\end{bmatrix}$，不难发现这两个向量能够表示二维空间中任一其他向量，即$span(\\vec{\\mathbf{a}}, \\vec{\\mathbf{b}}) = \\mathbb{R}^{2}$ 。证明如下："
   ]
  },
  {
   "cell_type": "markdown",
   "metadata": {},
   "source": [
    "对于 $\\mathbb{R}^{2}$中任一向量$\\begin{bmatrix} x \\\\ y\\end{bmatrix}$，假设可以由$\\vec{\\mathbf{a}}$和$\\vec{\\mathbf{b}}$线性组合而成，那么有：\n",
    "$$ c_1 \\begin{bmatrix}2 \\\\ 1\\end{bmatrix} + c_2 \\begin{bmatrix} 0 \\\\ 3 \\end{bmatrix} = \\begin{bmatrix} x \\\\ y \\end{bmatrix}$$\n",
    "即：\n",
    "$$\n",
    "\\left\\{\n",
    "\\begin{align}\n",
    "c_1 \\cdot 2 & + c_2 \\cdot 0 &= x\\\\\\\n",
    "c_1 \\cdot 1 & + c_2 \\cdot 3 &= y\n",
    "\\end{align}\n",
    "\\right.\n",
    "$$\n",
    "求解该方程得：\n",
    "$$\n",
    "\\left\\{\n",
    "\\begin{align}\n",
    "c_1 &= \\frac{x}{2}\\\\\n",
    "c_2 &= \\frac{y}{3} - \\frac{x}{6}\n",
    "\\end{align}\n",
    "\\right.\n",
    "$$\n",
    "由于 $x$、$y$ 的值已确定，所以 $c_1$、$c_2$ 的值也必然唯一。"
   ]
  },
  {
   "cell_type": "markdown",
   "metadata": {},
   "source": [
    "### 线性相关和线性无关"
   ]
  },
  {
   "cell_type": "markdown",
   "metadata": {},
   "source": [
    "当一个向量集合里的每个向量都对张成的空间有贡献时，称这个向量集合线性无关。反之称为线性相关。能够表示一个空间的最少向量组合称为空间的基。\n",
    "\n",
    "其实就是非常简单的道理：假如一个向量集合中存在某个向量能由集合里的其他向量线性组合而成，那这个集合对于张成空间而言就存在多余的向量。此时就是线性相关；反之，假如集合里每一个元素都没法由其他元素组合而成，那么这个集合每个元素都对张成空间有贡献，这个集合就是线性无关的。"
   ]
  },
  {
   "cell_type": "markdown",
   "metadata": {},
   "source": [
    "例如，对于上述的例子，如果再增加一个向量 $\\vec{\\mathbf{c}} = \\begin{bmatrix} 5 \\\\ 2\\end{bmatrix}$，由于 $\\vec{\\mathbf{c}}$  可以由$\\vec{\\mathbf{a}}$和$\\vec{\\mathbf{b}}$线性组合而成，由 $a$ 、$b$ 和 $c$ 共同张成的空间并没有变化，仍然是 $\\mathbb{R}^{a}$，因此称集合$\\left\\{\\vec{\\mathbf{a}},\\vec{\\mathbf{v}},\\vec{\\mathbf{c}}\\right\\}$ 线性相关。"
   ]
  },
  {
   "cell_type": "markdown",
   "metadata": {},
   "source": [
    "### 判断是否线性相关"
   ]
  },
  {
   "cell_type": "markdown",
   "metadata": {},
   "source": [
    "一个向量集合$s = {v_1, v_2, \\ldots, v_n}$线性相关的充分必要条件是存在一部分非0系数使得$c_1 v_1 + c_2 v_2 + \\ldots + c_n v_n = \\mathbf{0} = \\begin{bmatrix} 0 \\\\ 0 \\\\ \\ldots \\\\ 0\\end{bmatrix}$\n",
    "\n",
    "例如有向量 $\\begin{bmatrix}2 \\\\ 1\\end{bmatrix}$ 和 $\\begin{bmatrix}3 \\\\ 2\\end{bmatrix}$，则可以先写出如下的等式：\n",
    "$$ c_1 \\begin{bmatrix}2 \\\\ 1\\end{bmatrix} + c_2 \\begin{bmatrix}3 \\\\ 2\\end{bmatrix} = \\begin{bmatrix}0 \\\\ 0\\end{bmatrix}$$\n",
    "容易求解得 $\\begin{bmatrix}c_1 \\\\ c_2\\end{bmatrix} = \\begin{bmatrix}0 \\\\ 0\\end{bmatrix}$,**说明两个向量线性无关。也说明这两个向量可以张成$\\mathbb{R}^{2}$**"
   ]
  },
  {
   "cell_type": "markdown",
   "metadata": {},
   "source": [
    "对于三个$\\mathbb{R}^{3}$ 中的向量 $\\begin{bmatrix}2 \\\\ 0 \\\\ 0\\end{bmatrix}$、$\\begin{bmatrix}0 \\\\ 1 \\\\ 0\\end{bmatrix}$ 和 $\\begin{bmatrix}0 \\\\ 0 \\\\ 7\\end{bmatrix}$，不难判断这三个向量是线性无关的，他们共同张成了$\\mathbb{R}^{3}$ 空间。\n",
    "\n",
    "而对于向量集合 $\\left\\{\\begin{bmatrix}2 \\\\ 1\\end{bmatrix}, \\begin{bmatrix}3 \\\\ 2\\end{bmatrix}, \\begin{bmatrix}1 \\\\ 2 \\end{bmatrix}\\right\\}$ ，不难算出存在非 0 的系数 $\\begin{bmatrix}c_1 \\\\ c_2 \\\\ c_3\\end{bmatrix} = \\begin{bmatrix}-4 \\\\ 3 \\\\ -1\\end{bmatrix}$使得 $c1 \\begin{bmatrix}2 \\\\ 1\\end{bmatrix} + c_2 \\begin{bmatrix}3 \\\\ 2\\end{bmatrix} + c_3 \\begin{bmatrix}1 \\\\ 2 \\end{bmatrix} = \\begin{bmatrix}0 \\\\ 0\\end{bmatrix}$。因此集合 $\\left\\{\\begin{bmatrix}2 \\\\ 1\\end{bmatrix}, \\begin{bmatrix}3 \\\\ 2\\end{bmatrix}, \\begin{bmatrix}1 \\\\ 2 \\end{bmatrix}\\right\\}$线性相关。"
   ]
  },
  {
   "cell_type": "markdown",
   "metadata": {},
   "source": [
    "* $\\mathbb{R}^n$:表示 n 个有序实数二元组构成的空间.$\\mathbb{R}^n = \\left\\{ (x_1, \\ldots, x_n) | x_1, \\ldots, x_n \\in \\mathbb{R} \\right\\}$"
   ]
  },
  {
   "cell_type": "markdown",
   "metadata": {},
   "source": [
    "如果一个向量集合线性无关，且集合里的每个向量长度都为 1 ，那么就称这个集合为 标准正交集合 （Othonormal Set），称这个集合的基为 标准正交基 \n",
    "\n",
    "**基可以理解为坐标系的轴。我们平常用到的大多是直角坐标系，在线形代数中可以把这个坐标系扭曲、拉伸、旋转，称为基的变换。我们可以按我们的需求去设定基，但是基的轴之间必须是线形无关的。**"
   ]
  },
  {
   "cell_type": "markdown",
   "metadata": {},
   "source": [
    "## 张量"
   ]
  },
  {
   "cell_type": "markdown",
   "metadata": {},
   "source": [
    "张量（tensor）可以看作是向量、矩阵的自然推广，我们用张量来表示广泛的数据类型。\n",
    "* 规模最小的张量是0阶张量，即标量，也就是一个数。\n",
    "* 当我们把一些数有序的排列起来，就形成了1阶张量，也就是一个向量。\n",
    "* 如果我们继续把一组向量有序的排列起来，就形成了2阶张量，也就是一个矩阵。\n",
    "* 把矩阵摞起来，就是3阶张量，我们可以称为一个立方体，具有3个颜色通道的彩色图片就是一个这样的立方体\n",
    "\n",
    "张量的阶数有时候也称为维度（dimension），或者轴（axis）。"
   ]
  },
  {
   "cell_type": "code",
   "execution_count": 30,
   "metadata": {},
   "outputs": [
    {
     "data": {
      "text/plain": [
       "array([[1, 2],\n",
       "       [3, 4]])"
      ]
     },
     "execution_count": 30,
     "metadata": {},
     "output_type": "execute_result"
    },
    {
     "data": {
      "text/plain": [
       "array([4, 6])"
      ]
     },
     "execution_count": 30,
     "metadata": {},
     "output_type": "execute_result"
    },
    {
     "data": {
      "text/plain": [
       "array([3, 7])"
      ]
     },
     "execution_count": 30,
     "metadata": {},
     "output_type": "execute_result"
    }
   ],
   "source": [
    "a = np.array([[1,2],[3,4]])\n",
    "ax0 = np.sum(a,axis=0)#0轴\n",
    "ax1 = np.sum(a,axis=1)#1轴\n",
    "a;ax0;ax1"
   ]
  },
  {
   "cell_type": "markdown",
   "metadata": {},
   "source": [
    "# 线性代数进阶"
   ]
  },
  {
   "cell_type": "markdown",
   "metadata": {},
   "source": [
    "线性代数基础中主要介绍了线性代数中两个最基本的数据表达方式：矩阵和向量。接下来我们可以再进一步，讨论下面一些内容：\n",
    "1. 如何求解线性空间的基？\n",
    "2. 向量的子空间、零空间、列空间、行空间、左零空间都是什么东西？怎么求解？\n",
    "3. 如何用线性代数的知识来拟合数据？\n",
    "4. 机器学习、图像处理中常见的“特征向量”究竟是什么东西？它和变换矩阵有什么联系"
   ]
  },
  {
   "cell_type": "markdown",
   "metadata": {},
   "source": [
    "### 阶梯形矩阵"
   ]
  },
  {
   "cell_type": "markdown",
   "metadata": {},
   "source": [
    "阶梯形矩阵是一类非常实用的工具，可以帮助我们求解出线性空间的基，这就能用在诸如计算解不唯一的方程组之类的问题上"
   ]
  },
  {
   "cell_type": "markdown",
   "metadata": {},
   "source": [
    "若矩阵 $\\mathbf{A}$满足两条件：\n",
    "1. 若有零行（元素全为0的行），则零行应在最下方；\n",
    "2. 非零首元（即非零行的第一个不为零的元素）的列标号随行标号的增加而严格递增。\n",
    "\n",
    "则称此矩阵 $\\mathbf{A}$为阶梯形矩阵。\n",
    "例如：\n",
    "$$\\begin{bmatrix}\n",
    "2 & 0 & 2 & 1 \\\\\n",
    "0 & 5 & 2 & -2 \\\\\n",
    "0 & 0 & 3 & 2 \\\\\n",
    "0 & 0 & 0 & 0\n",
    "\\end{bmatrix}$$"
   ]
  },
  {
   "cell_type": "markdown",
   "metadata": {},
   "source": [
    "#### 行简化阶梯形矩阵"
   ]
  },
  {
   "cell_type": "markdown",
   "metadata": {},
   "source": [
    "若矩阵 $\\mathbf{A}$ 满足两条件：\n",
    "1. 它是阶梯形矩阵；\n",
    "2. 非零首元所在的列除了非零首元外，其余元素全为0。\n",
    "\n",
    "则称此矩阵$\\mathbf{A}$为行简化阶梯形矩阵。"
   ]
  },
  {
   "cell_type": "markdown",
   "metadata": {},
   "source": [
    "#### 行最简形矩阵"
   ]
  },
  {
   "cell_type": "markdown",
   "metadata": {},
   "source": [
    "若矩阵 $\\mathbf{A}$ 满足两条件：\n",
    "\n",
    "1. 它是行简化阶梯形矩阵；\n",
    "2. 非零首元都为1\n",
    "\n",
    "则称此矩阵 $\\mathbf{A}$为行最简形矩阵。"
   ]
  },
  {
   "cell_type": "markdown",
   "metadata": {},
   "source": [
    "### 线性子空间"
   ]
  },
  {
   "cell_type": "markdown",
   "metadata": {},
   "source": [
    "我们需要从一个空间 $\\mathbf{K}$ 里头挑出一些向量张成一个新的空间 $\\mathbf{W}$ ，这个空间 $\\mathbf{W}$就是原来的向量 $\\mathbf{K}$的子空间。\n",
    "\n",
    "**定理**：设 $\\mathbf{V}$是在域$\\mathbf{K}$上的向量空间，并设$\\mathbf{W}$ 是 $\\mathbf{V}$的子集。则 $\\mathbf{W}$ 是个子空间，当且仅当它满足下列三个条件:\n",
    "1. 零向量 0 在 $\\mathbf{W}$ 中。\n",
    "2. 加法封闭：如果$\\vec{\\mathbf{u}}$ 和$\\vec{\\mathbf{v}}$是 $\\mathbf{W}$的元素，则向量和$\\vec{\\mathbf{u}} + \\vec{\\mathbf{v}}$  是$\\mathbf{W}$ 的元素。\n",
    "3. 标量乘法封闭：如果$\\vec{\\mathbf{u}}$ 是 $\\mathbf{W}$ 的元素而$c$是标量，则标量积 $c\\vec{\\mathbf{v}}$是 $\\mathbf{W}$的元素"
   ]
  },
  {
   "cell_type": "markdown",
   "metadata": {},
   "source": [
    "#### 零空间"
   ]
  },
  {
   "cell_type": "markdown",
   "metadata": {},
   "source": [
    "矩阵$\\mathbf{A}$的零空间 $N(\\mathbf{A})$ 就是由满足 $\\mathbf{A}\\vec{\\mathbf{x}}=0$的所有向量 $\\vec{\\mathbf{x}}$的集合。"
   ]
  },
  {
   "cell_type": "markdown",
   "metadata": {},
   "source": [
    "要求解一个矩阵的零空间，可以先将其化简成行最简形。例如矩阵$\\mathbf{A} = \\begin{bmatrix} 1 & 1 & 1 & 1 \\\\ 1 & 2 & 3 & 4 \\\\ 4 & 3 & 2 & 1 \\end{bmatrix}$。 为了计算零空间，可以写出如下的等式:\n",
    "$$\\begin{bmatrix} 1 & 1 & 1 & 1 \\\\ 1 & 2 & 3 & 4 \\\\ 4 & 3 & 2 & 1 \\end{bmatrix} \\begin{bmatrix} x_1 \\\\ x_2 \\\\ x_3 \\\\ x_4 \\end{bmatrix} = \\begin{bmatrix} 0 \\\\ 0 \\\\ 0 \\end{bmatrix}$$\n",
    "\n",
    "展开得到方程组：\n",
    "$$\\left\\{ \n",
    "\\begin{eqnarray} \n",
    "x_1 + x_2 + x_3 + x_4 &=& 0 \\\\\\\n",
    "x_1 + 2x_2 + 3x_3 + 4x_4 &=& 0 \\\\\\\n",
    "4x_1 + 3x_2 + 2x_4 + x_4 &=& 0\n",
    "\\end{eqnarray}\n",
    "\\right.$$\n",
    "\n",
    "把上面的方程组表示成增广矩阵:\n",
    "$$\\begin{bmatrix} 1 & 1 & 1 & 1 & 0 \\\\ 1 & 2 & 3 & 4 & 0 \\\\ 4 & 3 & 2 & 1 & 0 \\end{bmatrix}$$\n",
    "\n",
    "将其转换成行最简形:\n",
    "$$\\begin{bmatrix} 1 & 0 & -1 & -2 & 0 \\\\ 0 & 1 & 2 & 3 & 0 \\\\ 0 & 0 & 0 & 0 & 0 \\end{bmatrix}$$\n",
    "\n",
    "最终求解得到：\n",
    "$$\\begin{bmatrix} x_{ 1 } \\\\ x_{ 2 } \\\\ x_{ 3 } \\\\ x_{ 4 } \\end{bmatrix}=x_{ 3 }\\underbrace { \\begin{bmatrix} 1 \\\\ -2 \\\\ 1 \\\\ 0 \\end{bmatrix} }_{ \\vec{\\mathbf{a}} } +x_{ 4 }\\underbrace{\\begin{bmatrix} 2 \\\\ -3 \\\\ 0 \\\\ 1 \\end{bmatrix}}_{\\vec{\\mathbf{b}}}$$\n",
    "\n",
    "因此矩阵 $\\mathbf{A}$ 的零空间就是由上式中的 $\\vec{\\mathbf{a}}$向量和 $\\vec{\\mathbf{b}}$向量张成的空间。即\n",
    "$$N(\\mathbf{A}) = span\\left(\\begin{bmatrix} 1 \\\\ -2 \\\\ 1 \\\\ 0 \\end{bmatrix} \\begin{bmatrix} 2 \\\\ -3 \\\\ 0 \\\\ 1 \\end{bmatrix}\\right)$$\n",
    "\n",
    "另外，上面得到的这个行最简形有两个自由变量，就称矩阵 $\\mathbf{A}$ 的**零度**为 2。零度等于$\\mathbf{A}\\vec{\\mathbf{x}} = 0$化成行最简形后自由变量的个数。\n",
    "\n",
    "**零空间其实和线性无关其实有很大的联系。一个矩阵的零空间为 $\\vec{\\mathbf{O}}$的充分必要条件是这个矩阵的所有列线性无关。**"
   ]
  },
  {
   "cell_type": "markdown",
   "metadata": {},
   "source": [
    "#### 列空间"
   ]
  },
  {
   "cell_type": "markdown",
   "metadata": {},
   "source": [
    "矩阵的列空间就是由每一列的向量张成的空间。对于矩阵$\\underset { m\\times n }{ \\mathbf{A} } =\\begin{bmatrix} \\underbrace { \\begin{bmatrix} a_{ 11 } \\\\ a_{ 21 } \\\\ \\ldots \\\\ a_{ m1 } \\end{bmatrix} }_{ \\vec { \\mathbf{ V }_{ 1 } }  }  & \\underbrace { \\begin{bmatrix} a_{ 12 } \\\\ a_{ 22 } \\\\\\ldots  \\\\ a_{ m2 } \\end{bmatrix} }_{ \\vec { \\mathbf{ V_{ 2 } } }  } & \\ldots & \\underbrace { \\begin{bmatrix} a_{ 1n } \\\\ a_{ 2n } \\\\ \\ldots \\\\ a_{ mn } \\end{bmatrix} }_{ \\vec { \\mathbf{ V_{ n } } }  }  \\end{bmatrix}$,那么矩阵$\\mathbf{A}$的列空间就是：\n",
    "$$C(\\mathbf{A}) = span(\\vec{v_1}, \\vec{v_2}, \\ldots, \\vec{v_n})$$\n",
    "\n",
    "把一个矩阵化成行最简形后，这个矩阵的不相关主列（基底）的个数就称为矩阵的秩（Rank），或者叫维数。\n",
    "\n",
    "**矩阵的秩有一个特性：矩阵$\\mathbf{A}$的秩等于矩阵$\\mathbf{A}$的转置的秩。即 $Rank(\\mathbf{A}) = Rank(\\mathbf{A^T})$**"
   ]
  },
  {
   "cell_type": "markdown",
   "metadata": {},
   "source": [
    "注意 在 Numpy 中的秩和线性代数里的秩是不同的概念。在NumPy中维度（dimensions）叫做轴（axes），轴的个数叫做秩。"
   ]
  },
  {
   "cell_type": "code",
   "execution_count": 31,
   "metadata": {},
   "outputs": [
    {
     "data": {
      "text/plain": [
       "matrix([[1, 1, 1, 1],\n",
       "        [1, 2, 3, 4],\n",
       "        [0, 0, 1, 0]])"
      ]
     },
     "execution_count": 31,
     "metadata": {},
     "output_type": "execute_result"
    },
    {
     "data": {
      "text/plain": [
       "2"
      ]
     },
     "execution_count": 31,
     "metadata": {},
     "output_type": "execute_result"
    },
    {
     "data": {
      "text/plain": [
       "3"
      ]
     },
     "execution_count": 31,
     "metadata": {},
     "output_type": "execute_result"
    }
   ],
   "source": [
    "a = np.matrix('1 1 1 1;1 2 3 4; 0 0 1 0');a\n",
    "a.ndim#维度\n",
    "np.linalg.matrix_rank(a)#秩"
   ]
  },
  {
   "cell_type": "markdown",
   "metadata": {},
   "source": [
    "#### 行空间"
   ]
  },
  {
   "cell_type": "markdown",
   "metadata": {},
   "source": [
    "有了列空间的定义，行空间顾名思义就是矩阵的每一行转置得到的向量张成的子空间，也就是矩阵的转置的列空间，记为$R(\\mathbf{A}) = C(\\mathbf{A}^T)$\n",
    "例如，$\\mathbf{A} = \\begin{bmatrix}1 & 1 & 1 & 1 \\\\ 1 & 2 & 3 & 4 \\\\4 & 3 & 2 & 1\\end{bmatrix}$的行空间是$R(\\mathbf{A}) = C(\\mathbf{A}^T) = span\\left(\\begin{bmatrix}1 \\\\ 1 \\\\ 1 \\\\ 1\\end{bmatrix}\\begin{bmatrix}1 \\\\ 2 \\\\ 3 \\\\ 4\\end{bmatrix}\\begin{bmatrix}4 \\\\ 3 \\\\ 2 \\\\ 1\\end{bmatrix}\\right)$."
   ]
  },
  {
   "cell_type": "markdown",
   "metadata": {},
   "source": [
    "#### 左零空间"
   ]
  },
  {
   "cell_type": "markdown",
   "metadata": {},
   "source": [
    "矩阵 $\\mathbf{A}$ 的左零空间是  $\\mathbf{A}$ 的转置的零空间。即：\n",
    "$$N(\\mathbf{A}^T) = \\left\\{ \\vec{\\mathbf{x}} | \\mathbf{A}^{T} \\vec{\\mathbf{x}} = \\vec{\\mathbf{0}} \\right\\} = \\left\\{ \\vec{\\mathbf{x}} | \\vec{\\mathbf{x}}^{T} \\mathbf{A} = \\vec{\\mathbf{0}}^{T} \\right\\}$$\n",
    "如$\\mathbf{B} = \\begin{bmatrix}1 & 1 & 4 \\\\ 1 & 2 & 3 \\\\1 & 4 & 2\\\\ 1 & 3 & 1\\end{bmatrix}$转置矩阵为$\\mathbf{A} = \\mathbf{A} = \\begin{bmatrix}1 & 1 & 1 & 1 \\\\ 1 & 2 & 3 & 4 \\\\4 & 3 & 2 & 1\\end{bmatrix}$\n",
    "因此左零空间是\n",
    "$N(\\mathbf{B^T}) = N(\\mathbf{A}) = span\\left(\\begin{bmatrix} 1 \\\\ -2 \\\\ 1 \\\\ 0 \\end{bmatrix} \\begin{bmatrix} 2 \\\\ -3 \\\\ 0 \\\\ 1 \\end{bmatrix}\\right)$\n",
    "由于转置是对称的，所以矩阵 A 的转置的左零空间也是矩阵 A 的零空间。"
   ]
  },
  {
   "cell_type": "markdown",
   "metadata": {},
   "source": [
    "#### 子空间的正交补"
   ]
  },
  {
   "cell_type": "markdown",
   "metadata": {},
   "source": [
    "假设 $\\mathbf{V}$是 $\\mathbb{R}^{n}$的一个子空间，那么  $\\mathbf{V}$的正交补 $\\mathbf{V}^{\\bot}$ 也是一个子空间，定义为 $\\left\\{\\vec{\\mathbf{x}} | \\vec{\\mathbf{x}} \\vec{\\mathbf{v}}=0\\right\\}$，也即是$\\mathbb{R}^{n}$ 中所有正交于  $\\mathbf{V}$的向量所组成的子空间。\n",
    "\n",
    "由于正交是对称的，所以正交补也是对称的。一个子空间的正交补的正交补依然等于这个子空间。\n",
    "\n",
    "矩阵的零空间是行空间的正交补，即$ N(\\mathbf{A}) = R(\\mathbf{A})^{\\bot}$。反过来，矩阵的左零空间是列空间的正交补，即 $N(\\mathbf{B}^T) = C(\\mathbf{B})^{\\bot}$。"
   ]
  },
  {
   "cell_type": "markdown",
   "metadata": {},
   "source": [
    "#### 最小二乘逼近"
   ]
  },
  {
   "cell_type": "markdown",
   "metadata": {},
   "source": [
    "在 Python 中，可以使用 numpy.linalg.lstsq 方法来求解最小二乘逼近。"
   ]
  },
  {
   "cell_type": "markdown",
   "metadata": {},
   "source": [
    "#### 求解方程"
   ]
  },
  {
   "cell_type": "markdown",
   "metadata": {},
   "source": [
    "问题：求解如下方程组\n",
    "$\\left\\{ \n",
    "\\begin{eqnarray} \n",
    "x + y &=& 3 \\\\\\\n",
    "x - y &=& -2 \\\\\\\n",
    "y &=& 1\n",
    "\\end{eqnarray}\n",
    "\\right.$\n",
    "\n",
    "详细推理过程见：https://www.hahack.com/wiki/math-linear-algebra.html"
   ]
  },
  {
   "cell_type": "code",
   "execution_count": 32,
   "metadata": {},
   "outputs": [
    {
     "data": {
      "text/plain": [
       "array([[ 1,  1],\n",
       "       [ 1, -1],\n",
       "       [ 0,  1]])"
      ]
     },
     "execution_count": 32,
     "metadata": {},
     "output_type": "execute_result"
    },
    {
     "data": {
      "text/plain": [
       "array([ 3, -2,  1])"
      ]
     },
     "execution_count": 32,
     "metadata": {},
     "output_type": "execute_result"
    },
    {
     "name": "stderr",
     "output_type": "stream",
     "text": [
      "d:\\miniconda3\\lib\\site-packages\\ipykernel_launcher.py:3: FutureWarning: `rcond` parameter will change to the default of machine precision times ``max(M, N)`` where M and N are the input matrix dimensions.\n",
      "To use the future default and silence this warning we advise to pass `rcond=None`, to keep using the old, explicitly pass `rcond=-1`.\n",
      "  This is separate from the ipykernel package so we can avoid doing imports until\n"
     ]
    },
    {
     "data": {
      "text/plain": [
       "(array([0.5, 2. ]), array([1.5]), 2, array([1.73205081, 1.41421356]))"
      ]
     },
     "execution_count": 32,
     "metadata": {},
     "output_type": "execute_result"
    }
   ],
   "source": [
    "a = np.array([[1,1],[1,-1],[0,1]]);a\n",
    "b = np.array([3,-2,1]);b\n",
    "x =np.linalg.lstsq(a,b);x"
   ]
  },
  {
   "cell_type": "markdown",
   "metadata": {},
   "source": [
    "numpy.linalg.lstsq 的返回包括四个部分：\n",
    "1. 最小二乘逼近解。如果 b 是二维的，那么这个逼近的结果有多个列，每一列是一个逼近解。对于上例，逼近解就是 $\\begin{bmatrix}0.5 \\\\  2 \\end{bmatrix}$ 。\n",
    "2. 残差。即每一个 b - a*x 的长度的和。对于上例，残差是 1.5 。\n",
    "3. 矩阵 a 的秩。对于上例，矩阵 a 的秩为 2 。\n",
    "4. 矩阵 a 的奇异值。对于上例，矩阵 a 的奇异值为 $\\begin{bmatrix}1.73205081 \\\\  1.41421356\\end{bmatrix}$"
   ]
  },
  {
   "cell_type": "markdown",
   "metadata": {},
   "source": [
    "#### 线性回归"
   ]
  },
  {
   "cell_type": "markdown",
   "metadata": {},
   "source": [
    "问题：给定4个坐标点 (−1,0), (0,1), (1,2), (2,1) ，求一条经过这些点的直线 y=mx+b。\n",
    "显然这样的直线并不存在。然而我们能够使用最小二乘逼近，找到一条尽可能接近这些点的直线。将四个点表示成方程组的形式：\n",
    "$$\\left\\{\n",
    "\\begin{eqnarray}\n",
    "f(-1) &= -m + b = 0\\\\\\\n",
    "f(0) &= 0 + b  = 1\\\\\\\n",
    "f(1) &= m + b = 2\\\\\\\n",
    "f(2) &= 2m + b = 1\n",
    "\\end{eqnarray}\n",
    "\\right.$$\n",
    "\n",
    "将方程组表示成矩阵和向量的形式：\n",
    "$$\\underbrace{\\begin{bmatrix}-1 & 1 \\\\0 & 1 \\\\1 & 1 \\\\2 & 1\\end{bmatrix}}_{\\mathbf{A}}\\underbrace{\\begin{bmatrix}m\\\\b\\end{bmatrix}}_{\\vec{\\mathbf{x}}}=\\underbrace{\n",
    "\\begin{bmatrix}0\\\\1\\\\2\\\\1\\end{bmatrix}}_{\\vec{\\mathbf{b}}}$$\n",
    "\n",
    "这个等式的最小二乘逼近就是：\n",
    "$$\\begin{align}\n",
    "\\begin{bmatrix}\n",
    "-1 & 0 & 1 & 2 \\\\\n",
    "1 & 1 & 1 & 1\n",
    "\\end{bmatrix}\n",
    "\\begin{bmatrix}\n",
    "-1 & 1 \\\\\n",
    "0 & 1 \\\\\n",
    "1 & 1 \\\\\n",
    "2 & 1\n",
    "\\end{bmatrix}\n",
    "\\begin{bmatrix}\n",
    "m^*\\\\\n",
    "b^*\n",
    "\\end{bmatrix}\n",
    "&=\n",
    "\\begin{bmatrix}\n",
    "-1 & 0 & 1 & 2 \\\\\n",
    "1 & 1 & 1 & 1\n",
    "\\end{bmatrix}\n",
    "\\begin{bmatrix}\n",
    "0\\\\\n",
    "1\\\\\n",
    "2\\\\\n",
    "1\n",
    "\\end{bmatrix}\\\\\\\n",
    "\\begin{bmatrix}\n",
    "6 & 2 \\\\\n",
    "2 & 4\n",
    "\\end{bmatrix}\n",
    "\\begin{bmatrix}\n",
    "m^*\\\\\n",
    "b^*\n",
    "\\end{bmatrix}\n",
    "&=\n",
    "\\begin{bmatrix}\n",
    "4\\\\\n",
    "4\n",
    "\\end{bmatrix}\n",
    "\\end{align}$$\n",
    "容易求得 $\\begin{bmatrix}6 & 2\\\\2 & 4\\end{bmatrix}$ 的逆为$\\frac{1}{20}\\begin{bmatrix}4 & -2\\\\-2 & 6\\end{bmatrix}$，因此\n",
    "$$\\begin{bmatrix}m^*\\\\b^*\\end{bmatrix} = \\frac{1}{20}\\begin{bmatrix}4 & -2\\\\-2 & 6\\end{bmatrix}\\begin{bmatrix}4 \\\\ 4\\end{bmatrix} = \\frac{1}{20}\\begin{bmatrix}8 \\\\ 16\\end{bmatrix} = \\begin{bmatrix}\\frac{2}{5} \\\\ \\frac{4}{5}\\end{bmatrix}$$\n",
    "\n",
    "$y = \\frac{2}{5}x + \\frac{4}{5}$这就是所求的直线的近似解"
   ]
  },
  {
   "cell_type": "code",
   "execution_count": 33,
   "metadata": {},
   "outputs": [
    {
     "data": {
      "text/plain": [
       "matrix([[-1,  1],\n",
       "        [ 0,  1],\n",
       "        [ 1,  1],\n",
       "        [ 2,  1]])"
      ]
     },
     "execution_count": 33,
     "metadata": {},
     "output_type": "execute_result"
    },
    {
     "data": {
      "text/plain": [
       "array([0, 1, 2, 1])"
      ]
     },
     "execution_count": 33,
     "metadata": {},
     "output_type": "execute_result"
    },
    {
     "name": "stderr",
     "output_type": "stream",
     "text": [
      "d:\\miniconda3\\lib\\site-packages\\ipykernel_launcher.py:3: FutureWarning: `rcond` parameter will change to the default of machine precision times ``max(M, N)`` where M and N are the input matrix dimensions.\n",
      "To use the future default and silence this warning we advise to pass `rcond=None`, to keep using the old, explicitly pass `rcond=-1`.\n",
      "  This is separate from the ipykernel package so we can avoid doing imports until\n"
     ]
    },
    {
     "data": {
      "text/plain": [
       "(array([0.4, 0.8]), array([1.2]), 2, array([2.68999405, 1.66250775]))"
      ]
     },
     "execution_count": 33,
     "metadata": {},
     "output_type": "execute_result"
    }
   ],
   "source": [
    "a = np.matrix('-1 1;0 1;1 1;2 1');a\n",
    "b = np.array([0,1,2,1]);b\n",
    "x = np.linalg.lstsq(a,b);x"
   ]
  },
  {
   "cell_type": "markdown",
   "metadata": {},
   "source": [
    "### 特征向量"
   ]
  },
  {
   "cell_type": "markdown",
   "metadata": {},
   "source": [
    "如果矩阵对某一个向量或某些向量只发生伸缩（尺度）变换，而没有产生旋转的效果（也就意味着张成的子空间没有发生改变），这样的向量就认为是特征向量。\n",
    "$$\\mathbf{T}(\\vec{\\mathbf{v}}) = \\underbrace{\\mathbf{A}}_{n\\times n}\\vec{\\mathbf{v}} = \\underbrace{\\lambda}_{特征值} \\overbrace{\\vec{\\mathbf{v}}}^{特征向量}$$\n",
    "\n",
    "其中， $\\mathbf{T}$是一种线性变换，我们知道线性变换可以用矩阵向量积来表示，因此可以表示成$\\mathbf{A}\\vec{\\mathbf{v}}$  。$\\mathbf{A}$ 是一个$n \\times n$的方阵。$\\vec{\\mathbf{v}}$ 就是特征向量（Eigen Vector），也就是能被伸缩的向量（要求是非 0 向量），而 $\\lambda$是特征向量$\\vec{\\mathbf{v}}$  所对应的特征值，也就是伸缩了多少。如果特征值是负数，那说明了矩阵不但把向量拉长（缩短）了，而且让向量指向了相反的方向。\n",
    "\n",
    "**简而言之，特征向量就是在线性变化当中不变的向量**"
   ]
  },
  {
   "cell_type": "markdown",
   "metadata": {},
   "source": [
    "#### 求解特征值"
   ]
  },
  {
   "cell_type": "markdown",
   "metadata": {},
   "source": [
    "非 0 向量$\\vec{\\mathbf{v}}$ 是线性变化矩阵$\\mathbf{A}$的特征向量，需要满足如下条件:\n",
    "    $$det(\\lambda \\mathbf{I}_n - \\underbrace{\\mathbf{A}}_{n\\times n}) = 0$$\n",
    "其中，$det$ 表示矩阵行列式，$\\lambda$ 是特征值，$I$ 是单位矩阵。\n",
    "\n",
    "如矩阵$\\mathbf{A} = \\begin{bmatrix}1 & 2 \\\\ 4 & 3\\end{bmatrix}$带入上式得：\n",
    "$$ \\begin{align} det\\left( \\lambda \\begin{bmatrix} 1 & 0 \\\\ 0 & 1 \\end{bmatrix}-\\begin{bmatrix} 1 & 2 \\\\ 4 & 3 \\end{bmatrix} \\right)  &=0 \\\\ det\\left( \\begin{bmatrix} \\lambda  & 0 \\\\ 0 & \\lambda  \\end{bmatrix}-\\begin{bmatrix} 1 & 2 \\\\ 4 & 3 \\end{bmatrix} \\right)  &=0 \\\\ det\\left( \\begin{bmatrix} \\lambda -1 & -2 \\\\ -4 & \\lambda -3 \\end{bmatrix} \\right)  &=0 \\end{align}$$\n",
    "\n",
    "即有：\n",
    "$$\\begin{align} (\\lambda -1)(\\lambda -3)-8 & =0 \\\\ \\lambda ^{ 2 }-4\\lambda -5 &=0 \\\\ (\\lambda - 5)(\\lambda +1) &= 0\\end{align}$$\n",
    "因此 $\\lambda$的值为 5 或者 -1 。"
   ]
  },
  {
   "cell_type": "markdown",
   "metadata": {},
   "source": [
    "使用 numpy.linalg.eigvals 方法求解一个**方阵**($n \\times n$)的特征值："
   ]
  },
  {
   "cell_type": "code",
   "execution_count": 34,
   "metadata": {},
   "outputs": [
    {
     "data": {
      "text/plain": [
       "matrix([[1, 2],\n",
       "        [4, 3]])"
      ]
     },
     "execution_count": 34,
     "metadata": {},
     "output_type": "execute_result"
    },
    {
     "data": {
      "text/plain": [
       "array([-1.,  5.])"
      ]
     },
     "execution_count": 34,
     "metadata": {},
     "output_type": "execute_result"
    }
   ],
   "source": [
    "a = np.matrix('1 2; 4 3');a\n",
    "np.linalg.eigvals(a)"
   ]
  },
  {
   "cell_type": "markdown",
   "metadata": {},
   "source": [
    "#### 求解特征向量"
   ]
  },
  {
   "cell_type": "markdown",
   "metadata": {},
   "source": [
    "变换矩阵$\\mathbf{A}$的特征空间（特征向量张成的空间）可以用下面的等式来求解：$$\\mathbf{E}_{\\lambda}=N(\\lambda I_n - \\mathbf{A})$$\n",
    "例如矩阵$\\mathbf{A} = \\begin{bmatrix}1 & 2 \\\\ 4 & 3\\end{bmatrix}$带入上式：\n",
    "$${ E }_{ \\lambda  }=N\\left( \\lambda I_{ n }-\\begin{bmatrix} 1 & 2 \\\\ 4 & 3 \\end{bmatrix} \\right) =N\\left( \\lambda \\begin{bmatrix} 1 & 0 \\\\ 0 & 1 \\end{bmatrix}-\\begin{bmatrix} 1 & 2 \\\\ 4 & 3 \\end{bmatrix} \\right) =N\\left( \\begin{bmatrix} \\lambda -1 & -2 \\\\ -4 & \\lambda -3 \\end{bmatrix} \\right)$$\n",
    "\n",
    "当$\\lambda = 5$时，有${ E }_{ 5  }=N\\left( \\begin{bmatrix} 4 & -2 \\\\ -4 & 2 \\end{bmatrix} \\right)$\n",
    "\n",
    "利用前面所学的 *零空间的求解方法* ，得\n",
    "$${ E }_{ 5  }= span\\left(\\begin{bmatrix}\\frac{1}{2} \\\\ 1 \\end{bmatrix}\\right)$$\n",
    "\n",
    "同样地，当 $\\lambda = -1$时:\n",
    "$${ E }_{ -1  }= span\\left(\\begin{bmatrix}1 \\\\ -1 \\end{bmatrix}\\right)$$"
   ]
  },
  {
   "cell_type": "markdown",
   "metadata": {},
   "source": [
    "使用 numpy.linalg.eig 方法来求解方阵的特征值和特征向量："
   ]
  },
  {
   "cell_type": "code",
   "execution_count": 35,
   "metadata": {},
   "outputs": [
    {
     "data": {
      "text/plain": [
       "matrix([[1, 2],\n",
       "        [3, 4]])"
      ]
     },
     "execution_count": 35,
     "metadata": {},
     "output_type": "execute_result"
    },
    {
     "data": {
      "text/plain": [
       "(array([-0.37228132,  5.37228132]),\n",
       " matrix([[-0.82456484, -0.41597356],\n",
       "         [ 0.56576746, -0.90937671]]))"
      ]
     },
     "execution_count": 35,
     "metadata": {},
     "output_type": "execute_result"
    }
   ],
   "source": [
    "a = np.matrix('1 2; 3 4');a\n",
    "np.linalg.eig(a)"
   ]
  },
  {
   "cell_type": "markdown",
   "metadata": {},
   "source": [
    "第一部分是特征值，和前面使用 numpy.linalg.eigvals 得到的结果完全一样；第二部分是特征向量，乍一看好像和我们上面求解的结果不一样，但如果我们这么写就完全一样了$\\begin{bmatrix}-0.70710678\\begin{bmatrix}1 \\\\ -1\\end{bmatrix} & -0.89442719\\begin{bmatrix}\\frac{1}{2} \\\\ 1\\end{bmatrix} \\end{bmatrix}$"
   ]
  },
  {
   "cell_type": "markdown",
   "metadata": {},
   "source": [
    "变换矩阵线性无关的特征向量特别适合作为空间的基，因为在这些方向上变换矩阵可以拉伸向量而不必扭曲和旋转它，使得计算大为简单。我们把这种基称为 **特征基** 。"
   ]
  },
  {
   "cell_type": "code",
   "execution_count": null,
   "metadata": {},
   "outputs": [],
   "source": []
  }
 ],
 "metadata": {
  "kernelspec": {
   "display_name": "Python 3",
   "language": "python",
   "name": "python3"
  },
  "language_info": {
   "codemirror_mode": {
    "name": "ipython",
    "version": 3
   },
   "file_extension": ".py",
   "mimetype": "text/x-python",
   "name": "python",
   "nbconvert_exporter": "python",
   "pygments_lexer": "ipython3",
   "version": "3.7.4"
  }
 },
 "nbformat": 4,
 "nbformat_minor": 4
}
