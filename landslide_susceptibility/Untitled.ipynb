{
 "cells": [
  {
   "cell_type": "code",
   "execution_count": null,
   "metadata": {},
   "outputs": [],
   "source": [
    "import os\n",
    "import geopandas\n",
    "import matplotlib.pyplot as plt\n",
    "import numpy as np\n",
    "import pandas as pd\n",
    "# np.set_printoptions(precision=2,suppress=True)\n",
    "\n",
    "from osgeo import gdal,ogr,gdal_array\n",
    "from sklearn.model_selection import GridSearchCV,train_test_split\n",
    "from sklearn.metrics import make_scorer\n",
    "from catboost import CatBoostClassifier, Pool, cv\n",
    "from sklearn.metrics import accuracy_score\n",
    "from sklearn.metrics import roc_auc_score,roc_curve\n",
    "import xarray as xr"
   ]
  },
  {
   "cell_type": "code",
   "execution_count": null,
   "metadata": {},
   "outputs": [],
   "source": [
    "def get_raster(filename):\n",
    "    data = gdal_array.LoadFile(filename).reshape(-1,1)\n",
    "    df = pd.DataFrame(data)\n",
    "    del data\n",
    "    return df"
   ]
  },
  {
   "cell_type": "code",
   "execution_count": null,
   "metadata": {},
   "outputs": [],
   "source": [
    "os.getcwd()\n",
    "os.chdir(\"C:\\\\Users\\\\2019\\\\Desktop\\\\1a\\\\data\")\n",
    "os.getcwd()"
   ]
  },
  {
   "cell_type": "code",
   "execution_count": null,
   "metadata": {},
   "outputs": [],
   "source": [
    "aspect = get_raster(\"factors/Aspect.tif\")\n",
    "elevation = get_raster(\"factors/elevation.tif\")\n",
    "faults = get_raster(\"factors/faults.tif\")\n",
    "landuse = get_raster(\"factors/landuse.tif\")\n",
    "lithology = get_raster(\"factors/lithology.tif\")\n",
    "loess = get_raster(\"factors/Loess.tif\")\n",
    "NDVI = get_raster(\"factors/NDVI.tif\")\n",
    "plan_curvature = get_raster(\"factors/plan_curvature.tif\")\n",
    "profile_curvature = get_raster(\"factors/profile_curvature.tif\")\n",
    "rainfall = get_raster(\"factors/rainfall.tif\")\n",
    "roads = get_raster(\"factors/raods.tif\")\n",
    "rivers = get_raster(\"factors/rivers.tif\")\n",
    "slope = get_raster(\"factors/slope_angle.tif\")\n",
    "twi = get_raster(\"factors/TWI.tif\")\n",
    "spi = get_raster(\"factors/SPI.tif\")\n",
    "landslides = get_raster(\"factors/landslide.tif\")"
   ]
  },
  {
   "cell_type": "code",
   "execution_count": null,
   "metadata": {},
   "outputs": [],
   "source": [
    "aspect.rename(columns={0:'aspect'},inplace=True)\n",
    "elevation.rename(columns={0:'elevation'},inplace=True)\n",
    "faults.rename(columns={0:'faults'},inplace=True)\n",
    "landuse.rename(columns={0:'landuse'},inplace=True)\n",
    "lithology.rename(columns={0:'lithology'},inplace=True)\n",
    "loess.rename(columns={0:'loess'},inplace=True)\n",
    "NDVI.rename(columns={0:'NDVI'},inplace=True)\n",
    "plan_curvature.rename(columns={0:'plan_curvature'},inplace=True)\n",
    "profile_curvature.rename(columns={0:'profile_curvature'},inplace=True)\n",
    "rainfall.rename(columns={0:'rainfall'},inplace=True)\n",
    "roads.rename(columns={0:'roads'},inplace=True)\n",
    "rivers.rename(columns={0:'rivers'},inplace=True)\n",
    "slope.rename(columns={0:'slope'},inplace=True)\n",
    "twi.rename(columns={0:'twi'},inplace=True)\n",
    "spi.rename(columns={0:'spi'},inplace=True)\n",
    "landslides.rename(columns={0:'landslides'},inplace=True)"
   ]
  },
  {
   "cell_type": "code",
   "execution_count": null,
   "metadata": {},
   "outputs": [],
   "source": [
    "aspect[aspect[:]<=-1]=0;\n",
    "aspect[(aspect[:]>0) & (aspect[:]<=22.5) | (aspect[:]>337.5)] = 1.188\n",
    "aspect[(aspect[:]>22.5) & (aspect[:]<=67.5)] = 1.083\n",
    "aspect[(aspect[:]>67.5) & (aspect[:]<=112.5)] = 1.203\n",
    "aspect[(aspect[:]>112.5) & (aspect[:]<=157.5)] = 0.857\n",
    "aspect[(aspect[:]>157.5) & (aspect[:]<=202.5)] = 0.822\n",
    "aspect[(aspect[:]>202.5) & (aspect[:]<=247.5)] = 0.693\n",
    "aspect[(aspect[:]>247.5) & (aspect[:]<=292.5)] = 0.981\n",
    "aspect[(aspect[:]>292.5) & (aspect[:]<=337.5)] = 1.164"
   ]
  },
  {
   "cell_type": "code",
   "execution_count": null,
   "metadata": {},
   "outputs": [],
   "source": [
    "elevation[elevation[:]<=1000]=0.02;\n",
    "elevation[(elevation[:]>1000) & (elevation[:]<=1200)] = 0.621\n",
    "elevation[(elevation[:]>1200) & (elevation[:]<=1400)] = 2.489\n",
    "elevation[(elevation[:]>1400) & (elevation[:]<=1600)] = 4.795\n",
    "elevation[(elevation[:]>1600) & (elevation[:]<=1800)] = 3.588\n",
    "elevation[(elevation[:]>1800) & (elevation[:]<=2000)] = 0.926\n",
    "elevation[(elevation[:]>2000) & (elevation[:]<=2200)] = 0.387\n",
    "elevation[(elevation[:]>2200)] = 0.106\n"
   ]
  },
  {
   "cell_type": "code",
   "execution_count": null,
   "metadata": {},
   "outputs": [],
   "source": [
    "faults[faults[:]<=1000]=1.384;\n",
    "faults[(faults[:]>1000) & (faults[:]<=2000)] = 1.423\n",
    "faults[(faults[:]>2000) & (faults[:]<=3000)] = 1.264\n",
    "faults[(faults[:]>3000) & (faults[:]<=4000)] = 0.937\n",
    "faults[(faults[:]>4000) & (faults[:]<=5000)] = 0.389\n",
    "faults[(faults[:]>5000)] = 0.230"
   ]
  },
  {
   "cell_type": "code",
   "execution_count": null,
   "metadata": {},
   "outputs": [],
   "source": [
    "landuse[landuse[:]==1]=0\n",
    "landuse[landuse[:]==2]=1.259\n",
    "landuse[landuse[:]==3]=0\n",
    "landuse[landuse[:]==4]=0.851\n",
    "landuse[landuse[:]==5]=0.584"
   ]
  },
  {
   "cell_type": "code",
   "execution_count": null,
   "metadata": {},
   "outputs": [],
   "source": [
    "lithology[lithology[:]==1]=1.261\n",
    "lithology[lithology[:]==2]=0.576\n",
    "lithology[lithology[:]==3]=0.852\n",
    "lithology[lithology[:]==4]=0.735\n",
    "lithology[lithology[:]==5]=5.626"
   ]
  },
  {
   "cell_type": "code",
   "execution_count": null,
   "metadata": {},
   "outputs": [],
   "source": [
    "loess[loess[:]==1]=2.572\n",
    "loess[loess[:]==2]=0.453"
   ]
  },
  {
   "cell_type": "code",
   "execution_count": null,
   "metadata": {},
   "outputs": [],
   "source": [
    "NDVI[(NDVI[:]>0.08) & (NDVI[:]<=0.16)] = 0.47\n",
    "NDVI[NDVI[:]<=0.08]= 0.143\n",
    "NDVI[(NDVI[:]>0.39)] = 1.05\n",
    "NDVI[(NDVI[:]>0.16) & (NDVI[:]<=0.24)] = 1.106\n",
    "NDVI[(NDVI[:]>0.24) & (NDVI[:]<=0.31)] = 1.153\n",
    "NDVI[(NDVI[:]>0.31) & (NDVI[:]<=0.39)] = 1.189"
   ]
  },
  {
   "cell_type": "code",
   "execution_count": null,
   "metadata": {},
   "outputs": [],
   "source": [
    "plan_curvature[(plan_curvature[:]>1.07)] = 1.590\n",
    "plan_curvature[plan_curvature[:]<=1.36]=1.459\n",
    "plan_curvature[(plan_curvature[:]>0.23) & (plan_curvature[:]<=1.07)] = 1.506\n",
    "plan_curvature[(plan_curvature[:]>-0.44) & (plan_curvature[:]<=0.23)] = 0.799\n",
    "plan_curvature[(plan_curvature[:]>-1.36) & (plan_curvature[:]<=-0.44)] = 1.364"
   ]
  },
  {
   "cell_type": "code",
   "execution_count": null,
   "metadata": {},
   "outputs": [],
   "source": [
    "profile_curvature[profile_curvature[:]<=-1.17] = 1.262\n",
    "profile_curvature[(profile_curvature[:]>1.11)] = 1.711\n",
    "profile_curvature[(profile_curvature[:]>-1.17) & (profile_curvature[:]<=-0.39)] = 1.651\n",
    "profile_curvature[(profile_curvature[:]>-0.39) & (profile_curvature[:]<=0.24)] = 0.757\n",
    "profile_curvature[(profile_curvature[:]>0.24) & (profile_curvature[:]<=1.11)] = 1.124"
   ]
  },
  {
   "cell_type": "code",
   "execution_count": null,
   "metadata": {},
   "outputs": [],
   "source": [
    "rainfall[rainfall[:]<=300] = 0\n",
    "rainfall[(rainfall[:]>300) & (rainfall[:]<=400)] = 0.045\n",
    "rainfall[(rainfall[:]>400) & (rainfall[:]<=500)] = 0.43\n",
    "rainfall[(rainfall[:]>500) & (rainfall[:]<=600)] = 1.51\n",
    "rainfall[(rainfall[:]>600)] = 0.897"
   ]
  },
  {
   "cell_type": "code",
   "execution_count": null,
   "metadata": {},
   "outputs": [],
   "source": [
    "roads[roads[:]<=400] = 0.821\n",
    "roads[(roads[:]>400) & (roads[:]<=600)] = 1.111\n",
    "roads[(roads[:]>600) & (roads[:]<=800)] = 1.454\n",
    "roads[(roads[:]>800) & (roads[:]<=1000)] = 0.844\n",
    "roads[(roads[:]>1000)] = 1.009"
   ]
  },
  {
   "cell_type": "code",
   "execution_count": null,
   "metadata": {},
   "outputs": [],
   "source": [
    "rivers[rivers[:]<=200] = 1.119\n",
    "rivers[(rivers[:]>200) & (rivers[:]<=400)] = 0.785\n",
    "rivers[(rivers[:]>400) & (rivers[:]<=600)] = 1.06\n",
    "rivers[(rivers[:]>600) & (rivers[:]<=800)] = 0.83\n",
    "rivers[(rivers[:]>800) & (rivers[:]<=1000)] = 1.084\n",
    "rivers[(rivers[:]>1000)] = 1.015"
   ]
  },
  {
   "cell_type": "code",
   "execution_count": null,
   "metadata": {},
   "outputs": [],
   "source": [
    "slope[slope[:]<=10] = 0.285\n",
    "slope[(slope[:]>10) & (slope[:]<=20)] = 1.372\n",
    "slope[(slope[:]>20) & (slope[:]<=30)] = 1.766\n",
    "slope[(slope[:]>30) & (slope[:]<=40)] = 1.400\n",
    "slope[(slope[:]>40) & (slope[:]<=50)] = 1.414\n",
    "slope[(slope[:]>50)] = 0"
   ]
  },
  {
   "cell_type": "code",
   "execution_count": null,
   "metadata": {},
   "outputs": [],
   "source": [
    "twi[twi[:]<=5.31] = 1.569\n",
    "twi[(twi[:]>5.31) & (twi[:]<=6.96)] = 1.084\n",
    "twi[(twi[:]>6.95) & (twi[:]<=9.17)] = 0.408\n",
    "twi[(twi[:]>9.17) & (twi[:]<=12.67)] = 0.319\n",
    "twi[(twi[:]>12.67)] = 0.692"
   ]
  },
  {
   "cell_type": "code",
   "execution_count": null,
   "metadata": {},
   "outputs": [],
   "source": [
    "spi[spi[:]<=20] = 0.734\n",
    "spi[(spi[:]>20) & (spi[:]<=40)] = 1.363\n",
    "spi[(spi[:]>40) & (spi[:]<=60)] = 1.103\n",
    "spi[(spi[:]>60) & (spi[:]<=80)] = 1.952\n",
    "spi[(spi[:]>80)] = 1.053"
   ]
  },
  {
   "cell_type": "code",
   "execution_count": null,
   "metadata": {},
   "outputs": [],
   "source": [
    "#检查空值\n",
    "null_value_stats = data.isnull().sum(axis=0)\n",
    "null_value_stats[null_value_stats != 0]\n",
    "# data.fillna(-999, inplace=True)#空值填充"
   ]
  },
  {
   "cell_type": "code",
   "execution_count": null,
   "metadata": {},
   "outputs": [],
   "source": [
    "pred_data_LR = pd.concat([aspect,elevation,faults,landuse,lithology,loess,NDVI,plan_curvature,\\\n",
    "    profile_curvature,rainfall,roads,rivers,slope,twi,spi,landslides],axis=1)\n",
    "\n",
    "pred_data_LR.head(2)"
   ]
  }
 ],
 "metadata": {
  "kernelspec": {
   "display_name": "Python 3",
   "language": "python",
   "name": "python3"
  },
  "language_info": {
   "codemirror_mode": {
    "name": "ipython",
    "version": 3
   },
   "file_extension": ".py",
   "mimetype": "text/x-python",
   "name": "python",
   "nbconvert_exporter": "python",
   "pygments_lexer": "ipython3",
   "version": "3.7.4"
  }
 },
 "nbformat": 4,
 "nbformat_minor": 4
}
